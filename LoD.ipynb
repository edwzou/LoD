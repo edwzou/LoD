{
  "nbformat": 4,
  "nbformat_minor": 0,
  "metadata": {
    "colab": {
      "provenance": []
    },
    "kernelspec": {
      "name": "python3",
      "display_name": "Python 3"
    },
    "language_info": {
      "name": "python"
    }
  },
  "cells": [
    {
      "cell_type": "code",
      "source": [
        "!pip install groq"
      ],
      "metadata": {
        "colab": {
          "base_uri": "https://localhost:8080/"
        },
        "id": "lpUoRiwe-wXd",
        "outputId": "37fdaeda-70a3-4363-ed8d-864b35004a18",
        "collapsed": true
      },
      "execution_count": 1,
      "outputs": [
        {
          "output_type": "stream",
          "name": "stdout",
          "text": [
            "Requirement already satisfied: groq in /usr/local/lib/python3.10/dist-packages (0.11.0)\n",
            "Requirement already satisfied: anyio<5,>=3.5.0 in /usr/local/lib/python3.10/dist-packages (from groq) (3.7.1)\n",
            "Requirement already satisfied: distro<2,>=1.7.0 in /usr/local/lib/python3.10/dist-packages (from groq) (1.9.0)\n",
            "Requirement already satisfied: httpx<1,>=0.23.0 in /usr/local/lib/python3.10/dist-packages (from groq) (0.27.2)\n",
            "Requirement already satisfied: pydantic<3,>=1.9.0 in /usr/local/lib/python3.10/dist-packages (from groq) (2.9.2)\n",
            "Requirement already satisfied: sniffio in /usr/local/lib/python3.10/dist-packages (from groq) (1.3.1)\n",
            "Requirement already satisfied: typing-extensions<5,>=4.7 in /usr/local/lib/python3.10/dist-packages (from groq) (4.12.2)\n",
            "Requirement already satisfied: idna>=2.8 in /usr/local/lib/python3.10/dist-packages (from anyio<5,>=3.5.0->groq) (3.10)\n",
            "Requirement already satisfied: exceptiongroup in /usr/local/lib/python3.10/dist-packages (from anyio<5,>=3.5.0->groq) (1.2.2)\n",
            "Requirement already satisfied: certifi in /usr/local/lib/python3.10/dist-packages (from httpx<1,>=0.23.0->groq) (2024.8.30)\n",
            "Requirement already satisfied: httpcore==1.* in /usr/local/lib/python3.10/dist-packages (from httpx<1,>=0.23.0->groq) (1.0.6)\n",
            "Requirement already satisfied: h11<0.15,>=0.13 in /usr/local/lib/python3.10/dist-packages (from httpcore==1.*->httpx<1,>=0.23.0->groq) (0.14.0)\n",
            "Requirement already satisfied: annotated-types>=0.6.0 in /usr/local/lib/python3.10/dist-packages (from pydantic<3,>=1.9.0->groq) (0.7.0)\n",
            "Requirement already satisfied: pydantic-core==2.23.4 in /usr/local/lib/python3.10/dist-packages (from pydantic<3,>=1.9.0->groq) (2.23.4)\n"
          ]
        }
      ]
    },
    {
      "cell_type": "code",
      "source": [
        "import requests\n",
        "import random\n",
        "from groq import Groq"
      ],
      "metadata": {
        "id": "DriEhxq98XLp"
      },
      "execution_count": 2,
      "outputs": []
    },
    {
      "cell_type": "code",
      "source": [
        "def get_imdb_fan_favorites():\n",
        "    url = \"https://imdb188.p.rapidapi.com/api/v1/getFanFavorites\"\n",
        "    querystring = {\"country\": \"US\"}\n",
        "    headers = {\n",
        "        \"x-rapidapi-key\": \"b433dcc36fmsh6c6388a93d045c7p1f429cjsn4cb93cd655c4\",\n",
        "        \"x-rapidapi-host\": \"imdb188.p.rapidapi.com\"\n",
        "    }\n",
        "\n",
        "    response = requests.get(url, headers=headers, params=querystring)\n",
        "    if response.status_code == 200:\n",
        "        return response.json().get('data', {}).get('list', [])\n",
        "    else:\n",
        "        print(\"Error fetching IMDB data:\", response.status_code)\n",
        "        return []"
      ],
      "metadata": {
        "id": "T0irsghc-7mL",
        "collapsed": true
      },
      "execution_count": 3,
      "outputs": []
    },
    {
      "cell_type": "code",
      "source": [
        "def get_weather_forecast(location_id=\"53286\"):\n",
        "    url = f\"http://dataservice.accuweather.com/forecasts/v1/daily/1day/{location_id}?apikey=aOSV4TZGheO7mWpDWnYy8xlfjhVhnHbf\"\n",
        "    response = requests.get(url)\n",
        "    if response.status_code == 200:\n",
        "        forecast = response.json()\n",
        "        weather_text = forecast['Headline']['Text']\n",
        "        temperature = forecast['DailyForecasts'][0]['Temperature']\n",
        "        day_forecast = forecast['DailyForecasts'][0]['Day']\n",
        "        return {\n",
        "            \"text\": weather_text,\n",
        "            \"temperature\": temperature,\n",
        "            \"day_forecast\": day_forecast\n",
        "        }\n",
        "    else:\n",
        "        print(\"Error fetching weather data:\", response.status_code)\n",
        "        return {}"
      ],
      "metadata": {
        "id": "G0Oa6SnTGVrU",
        "collapsed": true
      },
      "execution_count": 4,
      "outputs": []
    },
    {
      "cell_type": "code",
      "source": [
        "def generate_movie_recommendation(weather_info, movies_list):\n",
        "    client = Groq(api_key=\"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\")\n",
        "    weather_text = weather_info.get(\"text\", \"\")\n",
        "    temperature_min = weather_info[\"temperature\"][\"Minimum\"][\"Value\"]\n",
        "    temperature_max = weather_info[\"temperature\"][\"Maximum\"][\"Value\"]\n",
        "\n",
        "    prompt = f\"The weather forecast says: '{weather_text}'. The temperature will be between {temperature_min}F and {temperature_max}F. \"\n",
        "    prompt += \"Based on this weather, suggest a few relaxing movies from the list below:\\n\\n\"\n",
        "    for movie in movies_list:\n",
        "        title = movie['originalTitleText']['text']\n",
        "        rating = movie['ratingsSummary']['aggregateRating']\n",
        "        prompt += f\"- {title} (Rating: {rating})\\n\"\n",
        "\n",
        "    try:\n",
        "        completion = client.chat.completions.create(\n",
        "            model=\"llama-3.1-70b-versatile\",\n",
        "            messages=[\n",
        "                {\"role\": \"system\", \"content\": prompt}\n",
        "            ],\n",
        "            temperature=1,\n",
        "            max_tokens=1024,\n",
        "            top_p=1,\n",
        "            stop=None\n",
        "        )\n",
        "\n",
        "        # Extract and print the recommendation text\n",
        "        recommendation_text = completion.choices[0].message.content\n",
        "        print(recommendation_text)\n",
        "\n",
        "    except Exception as e:\n",
        "        print(\"Error during completion request:\", str(e))"
      ],
      "metadata": {
        "id": "LhzS_IXPBM_m",
        "collapsed": true
      },
      "execution_count": 5,
      "outputs": []
    },
    {
      "cell_type": "code",
      "source": [
        "def main():\n",
        "    # Step 1: Fetch IMDB fan favorite movies\n",
        "    movies_list = get_imdb_fan_favorites()\n",
        "    if not movies_list:\n",
        "        print(\"No movies found.\")\n",
        "        return\n",
        "\n",
        "    # Step 2: Fetch AccuWeather forecast for Vancouver\n",
        "    weather_info = get_weather_forecast()\n",
        "    if not weather_info:\n",
        "        print(\"No weather data found.\")\n",
        "        return\n",
        "\n",
        "    # Step 3: Generate movie recommendations based on weather\n",
        "    print(\"Generating movie recommendations based on the weather...\\n\")\n",
        "    generate_movie_recommendation(weather_info, movies_list)\n",
        "\n",
        "# Run the application\n",
        "main()"
      ],
      "metadata": {
        "colab": {
          "base_uri": "https://localhost:8080/"
        },
        "id": "n0h4_Kr4Sv9r",
        "outputId": "15799328-f7cc-4913-b7b7-01ab4bebbfa3"
      },
      "execution_count": 8,
      "outputs": [
        {
          "output_type": "stream",
          "name": "stdout",
          "text": [
            "Generating movie recommendations based on the weather...\n",
            "\n",
            "Based on the rainy weather forecast, I'd recommend a few relaxing movies from your list. Here are some suggestions:\n",
            "\n",
            "1. **Shawshank Redemption** (Rating: 9.3) - A highly-rated film about hope, redemption, and friendship, perfect for a cozy evening on a rainy day.\n",
            "2. **The Lord of the Rings: The Fellowship of the Ring** (Rating: 8.9) - A classic fantasy film that will transport you to a different world, providing an escape from the gloomy weather outside.\n",
            "3. **Forrest Gump** (Rating: 8.8) - A heartwarming, feel-good movie with a simple yet inspiring story that's easy to get lost in on a rainy day.\n",
            "4. **Inception** (Rating: 8.8) - A thought-provoking sci-fi film that will keep your mind engaged while you relax and unwind.\n",
            "5. **The Matrix** (Rating: 8.7) - A classic, intelligent sci-fi film that explores the idea of a simulated reality, perfect for a rainy evening.\n",
            "\n",
            "These movies offer a mix of engaging stories, memorable characters, and thought-provoking themes that will help you relax and enjoy the cozy atmosphere on a rainy day.\n"
          ]
        }
      ]
    }
  ]
}