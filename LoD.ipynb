{
  "nbformat": 4,
  "nbformat_minor": 0,
  "metadata": {
    "colab": {
      "provenance": []
    },
    "kernelspec": {
      "name": "python3",
      "display_name": "Python 3"
    },
    "language_info": {
      "name": "python"
    }
  },
  "cells": [
    {
      "cell_type": "code",
      "source": [
        "import requests\n",
        "\n",
        "response = requests.get(\"https://parallelum.com.br/fipe/api/v1/carros/marcas/59/modelos/5940/anos/2014-3\")\n",
        "if response.status_code == 200:\n",
        "  print(\"yay\")\n",
        "  print(response.text)"
      ],
      "metadata": {
        "colab": {
          "base_uri": "https://localhost:8080/"
        },
        "id": "DriEhxq98XLp",
        "outputId": "b774519b-0d9e-46df-8197-557912e5fa2a"
      },
      "execution_count": 1,
      "outputs": [
        {
          "output_type": "stream",
          "name": "stdout",
          "text": [
            "yay\n",
            "{\"TipoVeiculo\":1,\"Valor\":\"R$ 98.194,00\",\"Marca\":\"VW - VolksWagen\",\"Modelo\":\"AMAROK High.CD 2.0 16V TDI 4x4 Dies. Aut\",\"AnoModelo\":2014,\"Combustivel\":\"Diesel\",\"CodigoFipe\":\"005340-6\",\"MesReferencia\":\"novembro de 2024\",\"SiglaCombustivel\":\"D\"}\n"
          ]
        }
      ]
    },
    {
      "cell_type": "code",
      "source": [
        "!pip install groq"
      ],
      "metadata": {
        "colab": {
          "base_uri": "https://localhost:8080/"
        },
        "id": "bJgYjBP1C6SP",
        "outputId": "cac9779b-b69c-4da5-d88f-f446cd7843be"
      },
      "execution_count": 2,
      "outputs": [
        {
          "output_type": "stream",
          "name": "stdout",
          "text": [
            "Requirement already satisfied: groq in /usr/local/lib/python3.10/dist-packages (0.11.0)\n",
            "Requirement already satisfied: anyio<5,>=3.5.0 in /usr/local/lib/python3.10/dist-packages (from groq) (3.7.1)\n",
            "Requirement already satisfied: distro<2,>=1.7.0 in /usr/local/lib/python3.10/dist-packages (from groq) (1.9.0)\n",
            "Requirement already satisfied: httpx<1,>=0.23.0 in /usr/local/lib/python3.10/dist-packages (from groq) (0.27.2)\n",
            "Requirement already satisfied: pydantic<3,>=1.9.0 in /usr/local/lib/python3.10/dist-packages (from groq) (2.9.2)\n",
            "Requirement already satisfied: sniffio in /usr/local/lib/python3.10/dist-packages (from groq) (1.3.1)\n",
            "Requirement already satisfied: typing-extensions<5,>=4.7 in /usr/local/lib/python3.10/dist-packages (from groq) (4.12.2)\n",
            "Requirement already satisfied: idna>=2.8 in /usr/local/lib/python3.10/dist-packages (from anyio<5,>=3.5.0->groq) (3.10)\n",
            "Requirement already satisfied: exceptiongroup in /usr/local/lib/python3.10/dist-packages (from anyio<5,>=3.5.0->groq) (1.2.2)\n",
            "Requirement already satisfied: certifi in /usr/local/lib/python3.10/dist-packages (from httpx<1,>=0.23.0->groq) (2024.8.30)\n",
            "Requirement already satisfied: httpcore==1.* in /usr/local/lib/python3.10/dist-packages (from httpx<1,>=0.23.0->groq) (1.0.6)\n",
            "Requirement already satisfied: h11<0.15,>=0.13 in /usr/local/lib/python3.10/dist-packages (from httpcore==1.*->httpx<1,>=0.23.0->groq) (0.14.0)\n",
            "Requirement already satisfied: annotated-types>=0.6.0 in /usr/local/lib/python3.10/dist-packages (from pydantic<3,>=1.9.0->groq) (0.7.0)\n",
            "Requirement already satisfied: pydantic-core==2.23.4 in /usr/local/lib/python3.10/dist-packages (from pydantic<3,>=1.9.0->groq) (2.23.4)\n"
          ]
        }
      ]
    },
    {
      "cell_type": "code",
      "source": [
        "from groq import Groq"
      ],
      "metadata": {
        "id": "MOz0cvqkCzBr"
      },
      "execution_count": 3,
      "outputs": []
    },
    {
      "cell_type": "code",
      "source": [
        "client = Groq(\n",
        "    api_key=\"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\"\n",
        ")\n",
        "\n",
        "completion = client.chat.completions.create(\n",
        "    model=\"llama-3.1-70b-versatile\",\n",
        "    messages=[\n",
        "        {\n",
        "            \"role\": \"system\",\n",
        "            \"content\": \"Help figure out what to wear today. It's raining lightly and it's around 10 degrees Celsius.\"\n",
        "        },\n",
        "        {\n",
        "            \"role\": \"user\",\n",
        "            \"content\": \"\"\n",
        "        }\n",
        "    ],\n",
        "    temperature=1,\n",
        "    max_tokens=1024,\n",
        "    top_p=1,\n",
        "    stream=True,\n",
        "    stop=None,\n",
        ")\n",
        "\n",
        "for chunk in completion:\n",
        "    content = chunk.choices[0].delta.content\n",
        "    if content:\n",
        "        print(content, end=\"\")"
      ],
      "metadata": {
        "colab": {
          "base_uri": "https://localhost:8080/"
        },
        "id": "LhzS_IXPBM_m",
        "outputId": "60c8da70-eaac-48fc-8a2a-a3f1fa1c3324"
      },
      "execution_count": 4,
      "outputs": [
        {
          "output_type": "stream",
          "name": "stdout",
          "text": [
            "On a lightly rainy day with a temperature of around 10 degrees Celsius, it's essential to prioritize staying dry and warm. Here's a suggested outfit:\n",
            "\n",
            "1. **Waterproof or water-repellent outerwear**: Choose a waterproof jacket or a water-repellent windbreaker to keep you dry. Look for something with a hood to protect your head from the rain.\n",
            "2. **Insulating mid-layer**: Wear a lightweight, breathable insulating layer such as a fleece jacket or a sweater to keep you warm. This will help retain body heat without making you feel too bulky.\n",
            "3. **Base layer**: Opt for a moisture-wicking base layer (top and bottom) to keep your skin dry and comfortable. This can be a thermal top and leggings or long johns.\n",
            "4. **Pants**: Choose water-repellent pants or leggings to keep your lower half dry. You can also consider wearing trousers with a waterproof and breathable membrane, such as Gore-Tex or similar technology.\n",
            "5. **Footwear**: Wear waterproof shoes or boots with good grip to keep your feet dry and stable on wet surfaces.\n",
            "6. **Accessories**: Add a scarf, hat, and gloves to keep your head, neck, and hands warm and dry.\n",
            "\n",
            "Some examples of outfits could be:\n",
            "\n",
            "* A waterproof parka over a fleece jacket and thermal top, paired with water-repellent trousers or leggings and waterproof shoes.\n",
            "* A water-repellent windbreaker over a sweater and leggings, paired with waterproof shoes and a warm hat and gloves."
          ]
        }
      ]
    }
  ]
}